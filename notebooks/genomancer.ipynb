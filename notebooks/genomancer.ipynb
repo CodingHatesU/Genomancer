{
 "cells": [
  {
   "cell_type": "code",
   "execution_count": 20,
   "metadata": {},
   "outputs": [],
   "source": [
    "import numpy as np"
   ]
  },
  {
   "cell_type": "code",
   "execution_count": 21,
   "metadata": {},
   "outputs": [],
   "source": [
    "import random"
   ]
  },
  {
   "cell_type": "code",
   "execution_count": 22,
   "metadata": {},
   "outputs": [],
   "source": [
    "# The Organism class is used to represent an organism in the game. It has\n",
    "# the following instance variables:\n",
    "# - size: the size of the organism\n",
    "# - _size: the original size of the organism\n",
    "# - speed: the speed of the organism\n",
    "# - agility: the agility of the organism\n",
    "class Organism:\n",
    "    def __init__(self,size,speed):\n",
    "        # Initialize instance variables\n",
    "        self.size = size\n",
    "        self.speed = speed\n",
    "        self.agility = speed*(2/size)\n",
    "\n",
    "def crossover(p1,p2):\n",
    "    size = random.choice([p1.size,p2.size])\n",
    "    speed = random.choice([p1.speed,p2.speed])\n",
    "    return Organism(size,speed)\n",
    "\n",
    "def mutate(organism, mutation_rate):\n",
    "    if random.random() < mutation_rate:\n",
    "        if organism.size > 2:\n",
    "            organism.size += random.randint(-2,2)\n",
    "        else:\n",
    "            organism.size += random.randint(0,2)\n",
    "    if random.random() < mutation_rate:\n",
    "        if organism.speed > 2:\n",
    "            organism.speed -= random.randint(-2,2)\n",
    "        else:\n",
    "            organism.speed += random.randint(0,2)\n",
    "    return organism"
   ]
  },
  {
   "cell_type": "code",
   "execution_count": 23,
   "metadata": {},
   "outputs": [],
   "source": [
    "population_size = 1000\n",
    "population = []\n",
    "\n",
    "for i in range(population_size):\n",
    "    size = random.randint(1,100)\n",
    "    speed = random.randint(1,100)\n",
    "    organism = Organism(size,speed)\n",
    "    population.append(organism)"
   ]
  },
  {
   "cell_type": "code",
   "execution_count": 24,
   "metadata": {},
   "outputs": [],
   "source": [
    "def fitness_function(organism):\n",
    "    # The fitness of an organism is the sum of its agility, size, and speed.\n",
    "    return organism.agility + organism.size + organism.speed"
   ]
  },
  {
   "cell_type": "code",
   "execution_count": 25,
   "metadata": {},
   "outputs": [],
   "source": [
    "num_generations = 1000\n",
    "\n",
    "#Initialize the population\n",
    "for i in range(population_size):\n",
    "    organism = Organism(random.randint(1,100),random.randint(1,100))\n",
    "    population.append(organism)\n",
    "\n",
    "#Genetic Algorithm Loop\n",
    "for i in range(num_generations):\n",
    "    #Get the fitness scores\n",
    "    fitness_scores = [fitness_function(organism) for organism in population]\n",
    "    #Find the fittest organism\n",
    "    fittest_organism = population[fitness_scores.index(max(fitness_scores))]\n",
    "    \n",
    "    #Crossover phase\n",
    "    for i in range(1, len(population)):\n",
    "        if (random.random() < 0.5):\n",
    "            #Select a random individual from the population\n",
    "            #and another one different from the first\n",
    "            j = random.randint(0, len(population)-1)\n",
    "            while (j == i):\n",
    "                j = random.randint(0, len(population)-1)\n",
    "            #Apply crossover\n",
    "            crossover(population[i], population[j])\n",
    "    new_population = []\n",
    "    for i in range(population_size):\n",
    "        #Select the parents\n",
    "        parent1 = random.choice(population)\n",
    "        parent2 = random.choice(population)\n",
    "        #Produce a child\n",
    "        child = crossover(parent1,parent2)\n",
    "        #Add the child to the new population\n",
    "        new_population.append(child)\n",
    "    \n",
    "    #Mutate the new population\n",
    "    for organism in new_population:\n",
    "        mutate(organism,1)\n",
    "    \n",
    "    #Replace the old population with the new population\n",
    "    population = new_population\n",
    "    "
   ]
  },
  {
   "cell_type": "code",
   "execution_count": 26,
   "metadata": {},
   "outputs": [
    {
     "data": {
      "image/png": "[encoded data removed]",
      "text/plain": [
       "<Figure size 640x480 with 1 Axes>"
      ]
     },
     "metadata": {},
     "output_type": "display_data"
    }
   ],
   "source": [
    "import matplotlib.pyplot as plt\n",
    "\n",
    "fittest_agilities = []\n",
    "best_scores = []\n",
    "\n",
    "for i in range(num_generations):\n",
    "    fittest_organism = sorted(population, key=fitness_function, reverse=True)[0]\n",
    "    best_scores.append(fitness_function(fittest_organism))\n",
    "    \n",
    "plt.plot(best_scores)\n",
    "plt.xlabel('Generation')\n",
    "plt.ylabel('Fittest Organism Score')\n",
    "plt.xlim(0,num_generations)\n",
    "plt.show()"
   ]
  },
  {
   "cell_type": "code",
   "execution_count": null,
   "metadata": {},
   "outputs": [],
   "source": []
  }
 ],
 "metadata": {
  "kernelspec": {
   "display_name": "Python 3",
   "language": "python",
   "name": "python3"
  },
  "language_info": {
   "codemirror_mode": {
    "name": "ipython",
    "version": 3
   },
   "file_extension": ".py",
   "mimetype": "text/x-python",
   "name": "python",
   "nbconvert_exporter": "python",
   "pygments_lexer": "ipython3",
   "version": "3.9.13"
  },
  "orig_nbformat": 4
 },
 "nbformat": 4,
 "nbformat_minor": 2
}
